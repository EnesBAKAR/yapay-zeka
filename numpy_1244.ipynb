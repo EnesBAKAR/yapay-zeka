{
  "nbformat": 4,
  "nbformat_minor": 0,
  "metadata": {
    "colab": {
      "provenance": [],
      "authorship_tag": "ABX9TyPOO95My1p1Mx6aN8k6pB3V",
      "include_colab_link": true
    },
    "kernelspec": {
      "name": "python3",
      "display_name": "Python 3"
    },
    "language_info": {
      "name": "python"
    }
  },
  "cells": [
    {
      "cell_type": "markdown",
      "metadata": {
        "id": "view-in-github",
        "colab_type": "text"
      },
      "source": [
        "<a href=\"https://colab.research.google.com/github/EnesBAKAR/yapay-zeka/blob/main/numpy_1244.ipynb\" target=\"_parent\"><img src=\"https://colab.research.google.com/assets/colab-badge.svg\" alt=\"Open In Colab\"/></a>"
      ]
    },
    {
      "cell_type": "code",
      "execution_count": 1,
      "metadata": {
        "id": "j9ECWBadFi7_"
      },
      "outputs": [],
      "source": [
        "import numpy as np\n",
        "\n"
      ]
    },
    {
      "cell_type": "markdown",
      "source": [
        "* 1) (10,15,30,45,60) değerlerine sahip numpy dizisi oluştur"
      ],
      "metadata": {
        "id": "r0fMp8KKG1hz"
      }
    },
    {
      "cell_type": "code",
      "source": [
        "np.arange(10,60)"
      ],
      "metadata": {
        "colab": {
          "base_uri": "https://localhost:8080/"
        },
        "id": "FFfRf-yPHQ-1",
        "outputId": "062a81ba-9331-4a69-988f-a09cac708ea4"
      },
      "execution_count": 9,
      "outputs": [
        {
          "output_type": "execute_result",
          "data": {
            "text/plain": [
              "array([10, 11, 12, 13, 14, 15, 16, 17, 18, 19, 20, 21, 22, 23, 24, 25, 26,\n",
              "       27, 28, 29, 30, 31, 32, 33, 34, 35, 36, 37, 38, 39, 40, 41, 42, 43,\n",
              "       44, 45, 46, 47, 48, 49, 50, 51, 52, 53, 54, 55, 56, 57, 58, 59])"
            ]
          },
          "metadata": {},
          "execution_count": 9
        }
      ]
    },
    {
      "cell_type": "markdown",
      "source": [
        "* 2) 5-15 arasındaki sayılarla bir dizi oluştur"
      ],
      "metadata": {
        "id": "BCkXJb-2HYHF"
      }
    },
    {
      "cell_type": "markdown",
      "source": [
        "* 4) 10 elemanlı sıfırlardan oluşan bir dizi oluşturun\n"
      ],
      "metadata": {
        "id": "jTXZif3xKGZG"
      }
    },
    {
      "cell_type": "code",
      "source": [
        "result=np.zeros(10)\n",
        "result\n"
      ],
      "metadata": {
        "colab": {
          "base_uri": "https://localhost:8080/"
        },
        "id": "1QFpac-9KRX-",
        "outputId": "aae9b655-e6a6-45b6-8ec0-6df6ceec20b0"
      },
      "execution_count": 12,
      "outputs": [
        {
          "output_type": "execute_result",
          "data": {
            "text/plain": [
              "array([0., 0., 0., 0., 0., 0., 0., 0., 0., 0.])"
            ]
          },
          "metadata": {},
          "execution_count": 12
        }
      ]
    },
    {
      "cell_type": "code",
      "source": [
        "np.arange(5,15)"
      ],
      "metadata": {
        "colab": {
          "base_uri": "https://localhost:8080/"
        },
        "id": "Vl1RPE7-Hs0x",
        "outputId": "b5bf96d0-7811-4b45-9364-dd671f8b665f"
      },
      "execution_count": 7,
      "outputs": [
        {
          "output_type": "execute_result",
          "data": {
            "text/plain": [
              "array([ 5,  6,  7,  8,  9, 10, 11, 12, 13, 14])"
            ]
          },
          "metadata": {},
          "execution_count": 7
        }
      ]
    },
    {
      "cell_type": "markdown",
      "source": [
        "* 3) 50-100 arasında 5 er 5 er bir dizi oluştur"
      ],
      "metadata": {
        "id": "tzy71LGHIgRG"
      }
    },
    {
      "cell_type": "markdown",
      "source": [
        "* 5 ) 10 elemanlı birlerden  oluşan bir dizi oluşturun"
      ],
      "metadata": {
        "id": "s58OeOjKKucd"
      }
    },
    {
      "cell_type": "code",
      "source": [
        "result=np.ones(10)\n",
        "result"
      ],
      "metadata": {
        "colab": {
          "base_uri": "https://localhost:8080/"
        },
        "id": "9ZpEATUQK0En",
        "outputId": "bb81d7bc-4e66-4579-91c7-d8d6a7273654"
      },
      "execution_count": 14,
      "outputs": [
        {
          "output_type": "execute_result",
          "data": {
            "text/plain": [
              "array([1., 1., 1., 1., 1., 1., 1., 1., 1., 1.])"
            ]
          },
          "metadata": {},
          "execution_count": 14
        }
      ]
    },
    {
      "cell_type": "markdown",
      "source": [
        "* 6) (0-100) arasında eşit aralıklı 5 sayı üretin"
      ],
      "metadata": {
        "id": "G1s8wFKqLdfm"
      }
    },
    {
      "cell_type": "code",
      "source": [
        "result=np.linspace(0,100,5)\n",
        "result"
      ],
      "metadata": {
        "colab": {
          "base_uri": "https://localhost:8080/"
        },
        "id": "mw2wAoo1LlwH",
        "outputId": "6ee4ed3b-1687-4877-baa0-27de6d9265e0"
      },
      "execution_count": 15,
      "outputs": [
        {
          "output_type": "execute_result",
          "data": {
            "text/plain": [
              "array([  0.,  25.,  50.,  75., 100.])"
            ]
          },
          "metadata": {},
          "execution_count": 15
        }
      ]
    },
    {
      "cell_type": "markdown",
      "source": [
        "* 7) (10-30) arasında rastgele 5 tam sayı üretin"
      ],
      "metadata": {
        "id": "FXSg2KNGLsAe"
      }
    },
    {
      "cell_type": "code",
      "source": [
        "result=np.random.randint(10,30,5)\n",
        "result"
      ],
      "metadata": {
        "colab": {
          "base_uri": "https://localhost:8080/"
        },
        "id": "Qxcm5cDhL2K3",
        "outputId": "6e478422-5d33-46a8-d1fe-91c4e5075347"
      },
      "execution_count": 16,
      "outputs": [
        {
          "output_type": "execute_result",
          "data": {
            "text/plain": [
              "array([14, 20, 24, 21, 27])"
            ]
          },
          "metadata": {},
          "execution_count": 16
        }
      ]
    },
    {
      "cell_type": "markdown",
      "source": [
        "* 8) [-1 ile 1] arasında 10 adet sayı üretin"
      ],
      "metadata": {
        "id": "eSHJ_RKyL8r2"
      }
    },
    {
      "cell_type": "code",
      "source": [
        "result=np.random.randn(10)\n",
        "result"
      ],
      "metadata": {
        "colab": {
          "base_uri": "https://localhost:8080/"
        },
        "id": "KuOdusZFMGw4",
        "outputId": "e2e0e2d8-cc81-4d75-e467-4bcfaf93c446"
      },
      "execution_count": 17,
      "outputs": [
        {
          "output_type": "execute_result",
          "data": {
            "text/plain": [
              "array([ 0.03720884, -0.72005341, -0.2433801 , -0.57355552, -0.27771749,\n",
              "        0.33243324,  1.1263982 , -1.09822691,  0.2706954 ,  3.03123786])"
            ]
          },
          "metadata": {},
          "execution_count": 17
        }
      ]
    },
    {
      "cell_type": "markdown",
      "source": [
        "* 9) (3x5)  boyutlarında (10-50) arasında rastgele bir matriks oluşturunuz"
      ],
      "metadata": {
        "id": "mp6zW_ZxMM5e"
      }
    },
    {
      "cell_type": "code",
      "source": [
        "result=np.random.randint(10,50,15).reshape(3,5)\n",
        "result"
      ],
      "metadata": {
        "colab": {
          "base_uri": "https://localhost:8080/"
        },
        "id": "4CfQfEZFMc__",
        "outputId": "82e186fb-4436-496c-99d5-8ef192be86cf"
      },
      "execution_count": 18,
      "outputs": [
        {
          "output_type": "execute_result",
          "data": {
            "text/plain": [
              "array([[23, 20, 16, 16, 46],\n",
              "       [21, 20, 36, 28, 10],\n",
              "       [26, 43, 18, 48, 40]])"
            ]
          },
          "metadata": {},
          "execution_count": 18
        }
      ]
    },
    {
      "cell_type": "markdown",
      "source": [
        "* 10) Üretilen matrisin  satır ve sütun sayıları toplamlarını hesaplayınız ?"
      ],
      "metadata": {
        "id": "syHf11CoMil9"
      }
    },
    {
      "cell_type": "code",
      "source": [
        "matris=np.random.randint(10,50,15).reshape(3,5)\n",
        "rowYTotal=matris.sum(axis=1)\n",
        "columnXTotal=matris.sum(axis=0)\n",
        "print(rowYTotal)\n",
        "print(columnXTotal)"
      ],
      "metadata": {
        "colab": {
          "base_uri": "https://localhost:8080/"
        },
        "id": "8NxyINlKM9EI",
        "outputId": "02b0fd18-faa0-40b9-f60d-e42019fc27df"
      },
      "execution_count": 20,
      "outputs": [
        {
          "output_type": "stream",
          "name": "stdout",
          "text": [
            "[153  95 126]\n",
            "[98 77 92 40 67]\n"
          ]
        }
      ]
    },
    {
      "cell_type": "markdown",
      "source": [
        "* 11) Üretilen Matrisin en  büyük değerinin indeksi kaçtır="
      ],
      "metadata": {
        "id": "xVFKt6vvNYqf"
      }
    },
    {
      "cell_type": "code",
      "source": [
        "result=np.random.randint(10,50,15).reshape(3,5)\n",
        "print(result)\n",
        "print(result.argmax())"
      ],
      "metadata": {
        "colab": {
          "base_uri": "https://localhost:8080/"
        },
        "id": "ucQ2njyFNrcz",
        "outputId": "efbb27b9-563e-4b38-8f8a-7bf9f8629519"
      },
      "execution_count": 21,
      "outputs": [
        {
          "output_type": "stream",
          "name": "stdout",
          "text": [
            "[[34 44 33 23 13]\n",
            " [36 42 13 28 24]\n",
            " [11 23 47 35 25]]\n",
            "12\n"
          ]
        }
      ]
    },
    {
      "cell_type": "markdown",
      "source": [
        "* 12) üretilen matrisin en büyük,en küçük ve ortalaması nedir?"
      ],
      "metadata": {
        "id": "_VYJJixGN0jX"
      }
    },
    {
      "cell_type": "code",
      "source": [
        "result=np.random.randint(10,50,15).reshape(3,5)\n",
        "print(result)\n",
        "print(result.max())\n",
        "print(result.min())\n",
        "print(result.mean())"
      ],
      "metadata": {
        "colab": {
          "base_uri": "https://localhost:8080/"
        },
        "id": "vdcl0U6aOHjA",
        "outputId": "8c4458aa-695f-47bd-ab60-89c43924c3fb"
      },
      "execution_count": 22,
      "outputs": [
        {
          "output_type": "stream",
          "name": "stdout",
          "text": [
            "[[35 20 43 29 19]\n",
            " [10 43 39 21 40]\n",
            " [41 34 17 37 48]]\n",
            "48\n",
            "10\n",
            "31.733333333333334\n"
          ]
        }
      ]
    },
    {
      "cell_type": "markdown",
      "source": [
        "* 13) (10-20) arasındaki sayıları içeren dizinin ilk 3 elemanını seçiniz"
      ],
      "metadata": {
        "id": "3g5Thh84OLae"
      }
    },
    {
      "cell_type": "code",
      "source": [
        "arr=np.arange(10,20)\n",
        "arr[:3]"
      ],
      "metadata": {
        "colab": {
          "base_uri": "https://localhost:8080/"
        },
        "id": "doW8DXwSOaTn",
        "outputId": "200015c2-b282-4902-ee53-588f7e93ba7e"
      },
      "execution_count": 23,
      "outputs": [
        {
          "output_type": "execute_result",
          "data": {
            "text/plain": [
              "array([10, 11, 12])"
            ]
          },
          "metadata": {},
          "execution_count": 23
        }
      ]
    },
    {
      "cell_type": "markdown",
      "source": [
        "* 14) üretilen dizinin elemanlarını tersten yazdırın"
      ],
      "metadata": {
        "id": "dHQnnXBaOelP"
      }
    },
    {
      "cell_type": "code",
      "source": [
        "result=np.random.randint(10,50,15).reshape(3,5)\n",
        "print(result)\n",
        "print(result[::-1])"
      ],
      "metadata": {
        "colab": {
          "base_uri": "https://localhost:8080/"
        },
        "id": "HadU3iuMOmwg",
        "outputId": "ed70bb59-5725-4a4b-a172-364c45940c73"
      },
      "execution_count": 24,
      "outputs": [
        {
          "output_type": "stream",
          "name": "stdout",
          "text": [
            "[[12 46 36 20 28]\n",
            " [45 23 21 27 41]\n",
            " [47 34 15 21 27]]\n",
            "[[47 34 15 21 27]\n",
            " [45 23 21 27 41]\n",
            " [12 46 36 20 28]]\n"
          ]
        }
      ]
    },
    {
      "cell_type": "markdown",
      "source": [
        "* 15) üretilen matrisin ilk sayısını seçiniz"
      ],
      "metadata": {
        "id": "P4HhC4ceOv6-"
      }
    },
    {
      "cell_type": "code",
      "source": [
        "result=np.random.randint(10,50,15).reshape(3,5)\n",
        "print(result)\n",
        "print(result[0,0])"
      ],
      "metadata": {
        "colab": {
          "base_uri": "https://localhost:8080/"
        },
        "id": "EBD-qj49O3SB",
        "outputId": "de671d67-167a-4c22-f7f9-49dce0e0167a"
      },
      "execution_count": 25,
      "outputs": [
        {
          "output_type": "stream",
          "name": "stdout",
          "text": [
            "[[37 10 24 47 22]\n",
            " [46 24 17 16 48]\n",
            " [40 33 35 30 30]]\n",
            "37\n"
          ]
        }
      ]
    },
    {
      "cell_type": "markdown",
      "source": [
        "* 16) üretilen matrisin 2.satır 3.sütundaki elemanı hangisidir?"
      ],
      "metadata": {
        "id": "UlCnbUe-PCHv"
      }
    },
    {
      "cell_type": "code",
      "source": [
        "result=np.random.randint(10,50,15).reshape(3,5)\n",
        "print(result)\n",
        "print(result[1,2])"
      ],
      "metadata": {
        "colab": {
          "base_uri": "https://localhost:8080/"
        },
        "id": "wKQt_QncPMuU",
        "outputId": "e9ea83ea-2dab-4488-a412-2fff15b6d1a1"
      },
      "execution_count": 26,
      "outputs": [
        {
          "output_type": "stream",
          "name": "stdout",
          "text": [
            "[[36 23 23 15 25]\n",
            " [44 21 38 13 34]\n",
            " [16 29 28 15 40]]\n",
            "38\n"
          ]
        }
      ]
    },
    {
      "cell_type": "markdown",
      "source": [
        "* 17) üretilen matrisin tüm satırlardaki ilk elemanı seçiniz"
      ],
      "metadata": {
        "id": "ZSajDuAwPRi2"
      }
    },
    {
      "cell_type": "code",
      "source": [
        "result=np.random.randint(10,50,15).reshape(3,5)\n",
        "print(result)\n",
        "print(result[:,0])"
      ],
      "metadata": {
        "colab": {
          "base_uri": "https://localhost:8080/"
        },
        "id": "Ca0XRne-Pj5R",
        "outputId": "c2eabce2-16f9-4419-eef5-9614de873663"
      },
      "execution_count": 27,
      "outputs": [
        {
          "output_type": "stream",
          "name": "stdout",
          "text": [
            "[[10 32 41 46 28]\n",
            " [45 36 35 15 42]\n",
            " [12 49 19 42 38]]\n",
            "[10 45 12]\n"
          ]
        }
      ]
    },
    {
      "cell_type": "markdown",
      "source": [
        "* 18) üretilen matrisin her bir elemanının karesini alınız"
      ],
      "metadata": {
        "id": "RQUxYMdxPo9e"
      }
    },
    {
      "cell_type": "code",
      "source": [
        "result=np.random.randint(10,50,15).reshape(3,5)\n",
        "print(result)\n",
        "print(result**2)"
      ],
      "metadata": {
        "colab": {
          "base_uri": "https://localhost:8080/"
        },
        "id": "_XBVeiWvPwII",
        "outputId": "f6846d18-0579-4f8c-86e7-3b730a6c1a5e"
      },
      "execution_count": 28,
      "outputs": [
        {
          "output_type": "stream",
          "name": "stdout",
          "text": [
            "[[20 26 19 38 18]\n",
            " [42 34 36 42 47]\n",
            " [25 48 23 10 45]]\n",
            "[[ 400  676  361 1444  324]\n",
            " [1764 1156 1296 1764 2209]\n",
            " [ 625 2304  529  100 2025]]\n"
          ]
        }
      ]
    },
    {
      "cell_type": "markdown",
      "source": [
        "* 19) üretilen matris elemanlarının hangisi pozitif çift sayıdır?"
      ],
      "metadata": {
        "id": "xvDIFcAxPykf"
      }
    },
    {
      "cell_type": "code",
      "source": [
        "ciftler=matris[matris %2 == %0]"
      ],
      "metadata": {
        "colab": {
          "base_uri": "https://localhost:8080/",
          "height": 106
        },
        "id": "ihxkVOnJQr5g",
        "outputId": "a75f9ed1-1c88-4209-c61b-199efa11f2b5"
      },
      "execution_count": 38,
      "outputs": [
        {
          "output_type": "error",
          "ename": "SyntaxError",
          "evalue": "invalid syntax (<ipython-input-38-371bfad009b8>, line 1)",
          "traceback": [
            "\u001b[0;36m  File \u001b[0;32m\"<ipython-input-38-371bfad009b8>\"\u001b[0;36m, line \u001b[0;32m1\u001b[0m\n\u001b[0;31m    ciftler=matris[matris %2 == %0]\u001b[0m\n\u001b[0m                                ^\u001b[0m\n\u001b[0;31mSyntaxError\u001b[0m\u001b[0;31m:\u001b[0m invalid syntax\n"
          ]
        }
      ]
    },
    {
      "cell_type": "code",
      "source": [
        "\n",
        "\n",
        "\n"
      ],
      "metadata": {
        "id": "2-q-6Z2GQEvo"
      },
      "execution_count": 35,
      "outputs": []
    },
    {
      "cell_type": "code",
      "source": [
        "np.arange(50,100,5)"
      ],
      "metadata": {
        "colab": {
          "base_uri": "https://localhost:8080/"
        },
        "id": "b3wONnlmIweH",
        "outputId": "2b350999-349c-4572-f5cc-09742ffc5409"
      },
      "execution_count": 10,
      "outputs": [
        {
          "output_type": "execute_result",
          "data": {
            "text/plain": [
              "array([50, 55, 60, 65, 70, 75, 80, 85, 90, 95])"
            ]
          },
          "metadata": {},
          "execution_count": 10
        }
      ]
    }
  ]
}